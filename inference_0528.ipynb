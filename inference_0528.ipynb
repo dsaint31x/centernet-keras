{
 "cells": [
  {
   "cell_type": "code",
   "execution_count": 108,
   "metadata": {},
   "outputs": [],
   "source": [
    "import os, cv2\n",
    "import tensorflow as tf\n",
    "import matplotlib.pyplot as plt, numpy as np, pandas as pd\n",
    "from tensorflow import keras\n",
    "\n",
    "from centernet import CenterNet, decode\n",
    "\n",
    "from data import VOCDataset\n",
    "from losses import centernet_loss"
   ]
  },
  {
   "cell_type": "code",
   "execution_count": 70,
   "metadata": {},
   "outputs": [
    {
     "name": "stderr",
     "output_type": "stream",
     "text": [
      "loading the context of data_file ...: 50it [00:00, 50123.14it/s]\n",
      "loading the context of data_file ...: 50it [00:00, 50111.16it/s]\n",
      "loading the context of data_file ...: 550it [00:00, 551222.75it/s]\n"
     ]
    }
   ],
   "source": [
    "input_shape = (512, 512)\n",
    "backbone = 'resnet50'\n",
    "\n",
    "epochs = 1\n",
    "batch_size = 2\n",
    "buffer_size = batch_size * 5\n",
    "lr = 1e-2\n",
    "freeze = True\n",
    "finetune = True or freeze\n",
    "\n",
    "data_path = \"..\\\\..\\\\Centernet\\\\VOC2007\"\n",
    "train_file = \"..\\\\..\\\\Centernet\\\\VOC2007\\\\ImageSets\\\\ceph\\\\train.txt\"\n",
    "val_file = \"..\\\\..\\\\Centernet\\\\VOC2007\\\\ImageSets\\\\ceph\\\\val.txt\"\n",
    "test_file = \"..\\\\..\\\\Centernet\\\\VOC2007\\\\ImageSets\\\\ceph\\\\test.txt\"\n",
    "\n",
    "val_dataset_raw = VOCDataset(data_path, input_shape, val_file,\n",
    "                             batch_size, False)\n",
    "val_dataset = val_dataset_raw.load_dataset()\n",
    "\n",
    "########\n",
    "test_dataset_raw = VOCDataset(data_path, input_shape, test_file,\n",
    "                             batch_size, False)\n",
    "test_dataset = test_dataset_raw.load_dataset()\n",
    "########\n",
    "\n",
    "vis_dataset_raw = VOCDataset(data_path, input_shape, train_file, 1, False)\n",
    "vis_dataset = vis_dataset_raw.load_dataset().repeat()\n",
    "\n",
    "steps_per_epoch = len(train_dataset_raw) // batch_size"
   ]
  },
  {
   "cell_type": "code",
   "execution_count": 3,
   "metadata": {},
   "outputs": [],
   "source": [
    "ckpt_path = './logs/test/20220525-180744/ckpt.h5'\n",
    "\n",
    "model = CenterNet(train_dataset_raw.class_names,\n",
    "                      backbone_weights='imagenet',\n",
    "                      freeze=freeze,\n",
    "                      finetune=finetune)"
   ]
  },
  {
   "cell_type": "code",
   "execution_count": 4,
   "metadata": {},
   "outputs": [],
   "source": [
    "model.build(input_shape=(1, 512, 512, 3))\n",
    "model.load_weights(ckpt_path)"
   ]
  },
  {
   "cell_type": "code",
   "execution_count": 5,
   "metadata": {},
   "outputs": [],
   "source": [
    "hm_pred, wh_pred, reg_pred = model.predict(val_dataset)"
   ]
  },
  {
   "cell_type": "code",
   "execution_count": 85,
   "metadata": {},
   "outputs": [],
   "source": [
    "detections_pred = decode(hm_pred, wh_pred, reg_pred, 1000)"
   ]
  },
  {
   "cell_type": "code",
   "execution_count": 86,
   "metadata": {},
   "outputs": [
    {
     "data": {
      "text/plain": [
       "TensorShape([50, 1000, 6])"
      ]
     },
     "execution_count": 86,
     "metadata": {},
     "output_type": "execute_result"
    }
   ],
   "source": [
    "# topk_x1, topk_y1, topk_x2, topk_y2, scores, class_ids\n",
    "\n",
    "detections_pred.shape"
   ]
  },
  {
   "cell_type": "code",
   "execution_count": 87,
   "metadata": {},
   "outputs": [
    {
     "data": {
      "text/plain": [
       "<tf.Tensor: shape=(6,), dtype=float32, numpy=\n",
       "array([6.5577545e+01, 4.7899761e+01, 8.5458084e+01, 6.7100067e+01,\n",
       "       7.9445302e-02, 1.0000000e+00], dtype=float32)>"
      ]
     },
     "execution_count": 87,
     "metadata": {},
     "output_type": "execute_result"
    }
   ],
   "source": [
    "detections_pred[0][0]"
   ]
  },
  {
   "cell_type": "code",
   "execution_count": 88,
   "metadata": {},
   "outputs": [
    {
     "name": "stdout",
     "output_type": "stream",
     "text": [
      "(1000, 6)\n"
     ]
    }
   ],
   "source": [
    "t = detections_pred[0]\n",
    "print(t.shape)"
   ]
  },
  {
   "cell_type": "code",
   "execution_count": 90,
   "metadata": {
    "collapsed": true,
    "jupyter": {
     "outputs_hidden": true
    }
   },
   "outputs": [
    {
     "name": "stdout",
     "output_type": "stream",
     "text": [
      "tf.Tensor(2.0, shape=(), dtype=float32) tf.Tensor(0.042385817, shape=(), dtype=float32)\n",
      "tf.Tensor(2.0, shape=(), dtype=float32) tf.Tensor(0.0403831, shape=(), dtype=float32)\n",
      "tf.Tensor(2.0, shape=(), dtype=float32) tf.Tensor(0.039646238, shape=(), dtype=float32)\n",
      "tf.Tensor(2.0, shape=(), dtype=float32) tf.Tensor(0.03938514, shape=(), dtype=float32)\n",
      "tf.Tensor(2.0, shape=(), dtype=float32) tf.Tensor(0.0389356, shape=(), dtype=float32)\n",
      "tf.Tensor(2.0, shape=(), dtype=float32) tf.Tensor(0.038670003, shape=(), dtype=float32)\n",
      "tf.Tensor(2.0, shape=(), dtype=float32) tf.Tensor(0.038668245, shape=(), dtype=float32)\n",
      "tf.Tensor(2.0, shape=(), dtype=float32) tf.Tensor(0.038253367, shape=(), dtype=float32)\n",
      "tf.Tensor(2.0, shape=(), dtype=float32) tf.Tensor(0.037692785, shape=(), dtype=float32)\n",
      "tf.Tensor(2.0, shape=(), dtype=float32) tf.Tensor(0.03752634, shape=(), dtype=float32)\n",
      "tf.Tensor(2.0, shape=(), dtype=float32) tf.Tensor(0.037512094, shape=(), dtype=float32)\n",
      "tf.Tensor(2.0, shape=(), dtype=float32) tf.Tensor(0.037245423, shape=(), dtype=float32)\n",
      "tf.Tensor(2.0, shape=(), dtype=float32) tf.Tensor(0.036887378, shape=(), dtype=float32)\n",
      "tf.Tensor(2.0, shape=(), dtype=float32) tf.Tensor(0.03677225, shape=(), dtype=float32)\n",
      "tf.Tensor(2.0, shape=(), dtype=float32) tf.Tensor(0.036608458, shape=(), dtype=float32)\n",
      "tf.Tensor(2.0, shape=(), dtype=float32) tf.Tensor(0.036518842, shape=(), dtype=float32)\n",
      "tf.Tensor(2.0, shape=(), dtype=float32) tf.Tensor(0.036421508, shape=(), dtype=float32)\n",
      "tf.Tensor(2.0, shape=(), dtype=float32) tf.Tensor(0.0363141, shape=(), dtype=float32)\n",
      "tf.Tensor(2.0, shape=(), dtype=float32) tf.Tensor(0.03624472, shape=(), dtype=float32)\n",
      "tf.Tensor(2.0, shape=(), dtype=float32) tf.Tensor(0.035957575, shape=(), dtype=float32)\n",
      "tf.Tensor(2.0, shape=(), dtype=float32) tf.Tensor(0.03588122, shape=(), dtype=float32)\n",
      "tf.Tensor(2.0, shape=(), dtype=float32) tf.Tensor(0.035685033, shape=(), dtype=float32)\n",
      "tf.Tensor(2.0, shape=(), dtype=float32) tf.Tensor(0.03544882, shape=(), dtype=float32)\n",
      "tf.Tensor(2.0, shape=(), dtype=float32) tf.Tensor(0.035116613, shape=(), dtype=float32)\n",
      "tf.Tensor(2.0, shape=(), dtype=float32) tf.Tensor(0.03499484, shape=(), dtype=float32)\n",
      "tf.Tensor(2.0, shape=(), dtype=float32) tf.Tensor(0.034795076, shape=(), dtype=float32)\n",
      "tf.Tensor(2.0, shape=(), dtype=float32) tf.Tensor(0.034793377, shape=(), dtype=float32)\n",
      "tf.Tensor(2.0, shape=(), dtype=float32) tf.Tensor(0.034769267, shape=(), dtype=float32)\n",
      "tf.Tensor(2.0, shape=(), dtype=float32) tf.Tensor(0.034495145, shape=(), dtype=float32)\n",
      "tf.Tensor(2.0, shape=(), dtype=float32) tf.Tensor(0.03441012, shape=(), dtype=float32)\n",
      "tf.Tensor(2.0, shape=(), dtype=float32) tf.Tensor(0.03426236, shape=(), dtype=float32)\n",
      "tf.Tensor(2.0, shape=(), dtype=float32) tf.Tensor(0.034040183, shape=(), dtype=float32)\n",
      "tf.Tensor(2.0, shape=(), dtype=float32) tf.Tensor(0.033915132, shape=(), dtype=float32)\n",
      "tf.Tensor(2.0, shape=(), dtype=float32) tf.Tensor(0.03366381, shape=(), dtype=float32)\n",
      "tf.Tensor(2.0, shape=(), dtype=float32) tf.Tensor(0.03351909, shape=(), dtype=float32)\n",
      "tf.Tensor(2.0, shape=(), dtype=float32) tf.Tensor(0.033516705, shape=(), dtype=float32)\n",
      "tf.Tensor(2.0, shape=(), dtype=float32) tf.Tensor(0.033373892, shape=(), dtype=float32)\n",
      "tf.Tensor(2.0, shape=(), dtype=float32) tf.Tensor(0.03325367, shape=(), dtype=float32)\n",
      "tf.Tensor(2.0, shape=(), dtype=float32) tf.Tensor(0.03303829, shape=(), dtype=float32)\n",
      "tf.Tensor(2.0, shape=(), dtype=float32) tf.Tensor(0.03284633, shape=(), dtype=float32)\n",
      "tf.Tensor(2.0, shape=(), dtype=float32) tf.Tensor(0.03271666, shape=(), dtype=float32)\n",
      "tf.Tensor(2.0, shape=(), dtype=float32) tf.Tensor(0.03269428, shape=(), dtype=float32)\n",
      "tf.Tensor(2.0, shape=(), dtype=float32) tf.Tensor(0.032552123, shape=(), dtype=float32)\n",
      "tf.Tensor(2.0, shape=(), dtype=float32) tf.Tensor(0.032454163, shape=(), dtype=float32)\n",
      "tf.Tensor(2.0, shape=(), dtype=float32) tf.Tensor(0.032424808, shape=(), dtype=float32)\n",
      "tf.Tensor(2.0, shape=(), dtype=float32) tf.Tensor(0.032370538, shape=(), dtype=float32)\n",
      "tf.Tensor(2.0, shape=(), dtype=float32) tf.Tensor(0.03233236, shape=(), dtype=float32)\n",
      "tf.Tensor(2.0, shape=(), dtype=float32) tf.Tensor(0.032178342, shape=(), dtype=float32)\n",
      "tf.Tensor(2.0, shape=(), dtype=float32) tf.Tensor(0.031911075, shape=(), dtype=float32)\n",
      "tf.Tensor(2.0, shape=(), dtype=float32) tf.Tensor(0.031771243, shape=(), dtype=float32)\n",
      "tf.Tensor(2.0, shape=(), dtype=float32) tf.Tensor(0.031525344, shape=(), dtype=float32)\n",
      "tf.Tensor(2.0, shape=(), dtype=float32) tf.Tensor(0.03099835, shape=(), dtype=float32)\n",
      "tf.Tensor(2.0, shape=(), dtype=float32) tf.Tensor(0.030952066, shape=(), dtype=float32)\n",
      "tf.Tensor(2.0, shape=(), dtype=float32) tf.Tensor(0.030835718, shape=(), dtype=float32)\n",
      "tf.Tensor(2.0, shape=(), dtype=float32) tf.Tensor(0.030780852, shape=(), dtype=float32)\n",
      "tf.Tensor(2.0, shape=(), dtype=float32) tf.Tensor(0.030736595, shape=(), dtype=float32)\n",
      "tf.Tensor(2.0, shape=(), dtype=float32) tf.Tensor(0.030564517, shape=(), dtype=float32)\n",
      "tf.Tensor(2.0, shape=(), dtype=float32) tf.Tensor(0.03053528, shape=(), dtype=float32)\n",
      "tf.Tensor(2.0, shape=(), dtype=float32) tf.Tensor(0.030523688, shape=(), dtype=float32)\n",
      "tf.Tensor(2.0, shape=(), dtype=float32) tf.Tensor(0.030200928, shape=(), dtype=float32)\n",
      "tf.Tensor(2.0, shape=(), dtype=float32) tf.Tensor(0.030159831, shape=(), dtype=float32)\n",
      "tf.Tensor(2.0, shape=(), dtype=float32) tf.Tensor(0.030156732, shape=(), dtype=float32)\n",
      "tf.Tensor(2.0, shape=(), dtype=float32) tf.Tensor(0.030151993, shape=(), dtype=float32)\n",
      "tf.Tensor(2.0, shape=(), dtype=float32) tf.Tensor(0.029870003, shape=(), dtype=float32)\n",
      "tf.Tensor(2.0, shape=(), dtype=float32) tf.Tensor(0.02970612, shape=(), dtype=float32)\n",
      "tf.Tensor(2.0, shape=(), dtype=float32) tf.Tensor(0.029375762, shape=(), dtype=float32)\n",
      "tf.Tensor(2.0, shape=(), dtype=float32) tf.Tensor(0.029241443, shape=(), dtype=float32)\n",
      "tf.Tensor(2.0, shape=(), dtype=float32) tf.Tensor(0.029088497, shape=(), dtype=float32)\n",
      "tf.Tensor(2.0, shape=(), dtype=float32) tf.Tensor(0.02902022, shape=(), dtype=float32)\n",
      "tf.Tensor(2.0, shape=(), dtype=float32) tf.Tensor(0.028991312, shape=(), dtype=float32)\n",
      "tf.Tensor(2.0, shape=(), dtype=float32) tf.Tensor(0.028986514, shape=(), dtype=float32)\n",
      "tf.Tensor(2.0, shape=(), dtype=float32) tf.Tensor(0.028856039, shape=(), dtype=float32)\n",
      "tf.Tensor(2.0, shape=(), dtype=float32) tf.Tensor(0.028781503, shape=(), dtype=float32)\n",
      "tf.Tensor(2.0, shape=(), dtype=float32) tf.Tensor(0.028720975, shape=(), dtype=float32)\n",
      "tf.Tensor(2.0, shape=(), dtype=float32) tf.Tensor(0.028703362, shape=(), dtype=float32)\n"
     ]
    }
   ],
   "source": [
    "for topk_x1, topk_y1, topk_x2, topk_y2, scores, class_ids in t:\n",
    "    if(class_ids==2):\n",
    "        print(class_ids, scores)"
   ]
  },
  {
   "cell_type": "code",
   "execution_count": 64,
   "metadata": {},
   "outputs": [],
   "source": [
    "topk_x1, topk_y1, topk_x2, topk_y2, scores, class_ids = t[0]"
   ]
  },
  {
   "cell_type": "code",
   "execution_count": 66,
   "metadata": {},
   "outputs": [
    {
     "data": {
      "text/plain": [
       "<tf.Tensor: shape=(6,), dtype=float32, numpy=\n",
       "array([6.9865395e+01, 7.0042084e+01, 9.3170235e+01, 9.2957748e+01,\n",
       "       6.3330263e-02, 1.0000000e+00], dtype=float32)>"
      ]
     },
     "execution_count": 66,
     "metadata": {},
     "output_type": "execute_result"
    }
   ],
   "source": [
    "t[50]"
   ]
  },
  {
   "cell_type": "code",
   "execution_count": 47,
   "metadata": {},
   "outputs": [],
   "source": [
    "t_1 = np.array(t[0])"
   ]
  },
  {
   "cell_type": "code",
   "execution_count": 48,
   "metadata": {},
   "outputs": [
    {
     "data": {
      "text/plain": [
       "(6,)"
      ]
     },
     "execution_count": 48,
     "metadata": {},
     "output_type": "execute_result"
    }
   ],
   "source": [
    "t_1.shape"
   ]
  },
  {
   "cell_type": "code",
   "execution_count": 82,
   "metadata": {},
   "outputs": [
    {
     "data": {
      "text/plain": [
       "(3, 4)"
      ]
     },
     "execution_count": 82,
     "metadata": {},
     "output_type": "execute_result"
    }
   ],
   "source": [
    "val_dataset_raw[49][1].shape"
   ]
  },
  {
   "cell_type": "code",
   "execution_count": 35,
   "metadata": {},
   "outputs": [
    {
     "data": {
      "text/plain": [
       "array([106.5 ,  24.75, 122.5 ,  40.75], dtype=float32)"
      ]
     },
     "execution_count": 35,
     "metadata": {},
     "output_type": "execute_result"
    }
   ],
   "source": [
    "# image, boxes, cls_ids, hms, whs, regs, reg_masks, indices\n",
    "# [i][1] : boxes\n",
    "\n",
    "val_dataset_raw[0][1][0]"
   ]
  },
  {
   "cell_type": "code",
   "execution_count": 83,
   "metadata": {},
   "outputs": [
    {
     "name": "stdout",
     "output_type": "stream",
     "text": [
      "75 57 80 61\n"
     ]
    }
   ],
   "source": [
    "pnt_x = int((t_1[0] + t_1[2])/2)\n",
    "pnt_y = int((t_1[1] + t_1[3])/2)\n",
    "\n",
    "xmin,ymin,xmax,ymax = val_dataset_raw[0][1][1]\n",
    "gt_x = int((xmin + xmax)/2)\n",
    "gt_y = int((ymin + ymax)/2)\n",
    "\n",
    "print(pnt_x, pnt_y, gt_x, gt_y)"
   ]
  },
  {
   "cell_type": "code",
   "execution_count": 84,
   "metadata": {},
   "outputs": [
    {
     "name": "stderr",
     "output_type": "stream",
     "text": [
      "Clipping input data to the valid range for imshow with RGB data ([0..1] for floats or [0..255] for integers).\n"
     ]
    },
    {
     "data": {
      "text/plain": [
       "<matplotlib.image.AxesImage at 0x2968a283e50>"
      ]
     },
     "execution_count": 84,
     "metadata": {},
     "output_type": "execute_result"
    },
    {
     "data": {
      "image/png": "[encoded data removed]",
      "text/plain": [
       "<Figure size 432x288 with 1 Axes>"
      ]
     },
     "metadata": {
      "needs_background": "light"
     },
     "output_type": "display_data"
    }
   ],
   "source": [
    "zeros = np.zeros((128, 128, 3))\n",
    "\n",
    "cv2.circle(zeros, (pnt_x,pnt_y), 2, (255, 0, 0), -1)\n",
    "cv2.circle(zeros, (gt_x, gt_y), 2, (0, 0, 255), -1)\n",
    "\n",
    "plt.imshow(zeros)"
   ]
  },
  {
   "cell_type": "markdown",
   "metadata": {},
   "source": [
    "---"
   ]
  },
  {
   "cell_type": "code",
   "execution_count": 93,
   "metadata": {},
   "outputs": [
    {
     "data": {
      "text/plain": [
       "array([106.5 ,  24.75, 122.5 ,  40.75], dtype=float32)"
      ]
     },
     "execution_count": 93,
     "metadata": {},
     "output_type": "execute_result"
    }
   ],
   "source": [
    "val_dataset_raw[0][1][0]"
   ]
  },
  {
   "cell_type": "code",
   "execution_count": 91,
   "metadata": {},
   "outputs": [],
   "source": [
    "def point_mse(arr, gt):\n",
    "    pnt_x = int((arr[0] + arr[2])/2)\n",
    "    pnt_y = int((arr[1] + arr[3])/2)\n",
    "\n",
    "    xmin,ymin,xmax,ymax = gt\n",
    "\n",
    "    gt_x = int((xmin + xmax)/2)\n",
    "    gt_y = int((ymin + ymax)/2)\n",
    "\n",
    "    return np.sqrt((gt_y-pnt_y)**2 + (gt_x-pnt_x)**2)"
   ]
  },
  {
   "cell_type": "code",
   "execution_count": 117,
   "metadata": {},
   "outputs": [],
   "source": [
    "t = detections_pred\n",
    "\n",
    "mse_result = []\n",
    "\n",
    "\n",
    "for i in range(50):\n",
    "    #topk_x1, topk_y1, topk_x2, topk_y2, scores, class_ids\n",
    "    Glabella = []\n",
    "    point_R3 = []\n",
    "    Nasion = []\n",
    "\n",
    "\n",
    "    for topk_x1, topk_y1, topk_x2, topk_y2, scores, class_ids in t[i]:\n",
    "\n",
    "        if(class_ids==0):\n",
    "            Glabella.append([topk_x1, topk_y1, topk_x2, topk_y2])\n",
    "\n",
    "        elif(class_ids==1):\n",
    "            point_R3.append([topk_x1, topk_y1, topk_x2, topk_y2])\n",
    "\n",
    "        elif(class_ids==2):\n",
    "            Nasion.append([topk_x1, topk_y1, topk_x2, topk_y2])\n",
    "\n",
    "    \n",
    "    #print(len(Glabella))\n",
    "    \n",
    "    Glabella = np.array(Glabella)\n",
    "    point_R3 = np.array(point_R3)\n",
    "    Nasion = np.array(Nasion)\n",
    "\n",
    "    # ground truth\n",
    "    Glabella_gt = val_dataset_raw[i][1][0]\n",
    "    point_R3_gt = val_dataset_raw[i][1][1]\n",
    "    Nasion_gt = val_dataset_raw[i][1][2]\n",
    "\n",
    "\n",
    "    Glabella_mse = point_mse(Glabella[0], Glabella_gt)\n",
    "    point_R3_mse = point_mse(point_R3[0], point_R3_gt)\n",
    "    Nasion_mse = point_mse(Nasion[0], Nasion_gt)\n",
    "\n",
    "    #print(Glabella_mse, point_R3_mse, Nasion_mse)\n",
    "\n",
    "\n",
    "    mse_result.append([i+1, np.round(Glabella_mse, 4), np.round(point_R3_mse, 4), np.round(Nasion_mse, 4)])\n",
    "\n",
    "\n",
    "    "
   ]
  },
  {
   "cell_type": "code",
   "execution_count": 120,
   "metadata": {},
   "outputs": [],
   "source": [
    "mse_result_df = pd.DataFrame(mse_result, columns = ['index', 'Glabella', 'R3', 'Nasion'], )\n",
    "\n",
    "mse_result_df.to_csv('./csv/mse.csv', index=False)"
   ]
  },
  {
   "cell_type": "code",
   "execution_count": 116,
   "metadata": {},
   "outputs": [
    {
     "data": {
      "text/html": [
       "<div>\n",
       "<style scoped>\n",
       "    .dataframe tbody tr th:only-of-type {\n",
       "        vertical-align: middle;\n",
       "    }\n",
       "\n",
       "    .dataframe tbody tr th {\n",
       "        vertical-align: top;\n",
       "    }\n",
       "\n",
       "    .dataframe thead th {\n",
       "        text-align: right;\n",
       "    }\n",
       "</style>\n",
       "<table border=\"1\" class=\"dataframe\">\n",
       "  <thead>\n",
       "    <tr style=\"text-align: right;\">\n",
       "      <th></th>\n",
       "      <th>index</th>\n",
       "      <th>Glabella</th>\n",
       "      <th>R3</th>\n",
       "      <th>Nasion</th>\n",
       "    </tr>\n",
       "  </thead>\n",
       "  <tbody>\n",
       "    <tr>\n",
       "      <th>0</th>\n",
       "      <td>1</td>\n",
       "      <td>53.235327</td>\n",
       "      <td>6.403124</td>\n",
       "      <td>46.615448</td>\n",
       "    </tr>\n",
       "    <tr>\n",
       "      <th>1</th>\n",
       "      <td>2</td>\n",
       "      <td>8.000000</td>\n",
       "      <td>9.055385</td>\n",
       "      <td>29.154759</td>\n",
       "    </tr>\n",
       "    <tr>\n",
       "      <th>2</th>\n",
       "      <td>3</td>\n",
       "      <td>27.202941</td>\n",
       "      <td>10.000000</td>\n",
       "      <td>32.202484</td>\n",
       "    </tr>\n",
       "    <tr>\n",
       "      <th>3</th>\n",
       "      <td>4</td>\n",
       "      <td>46.097722</td>\n",
       "      <td>6.324555</td>\n",
       "      <td>38.626416</td>\n",
       "    </tr>\n",
       "    <tr>\n",
       "      <th>4</th>\n",
       "      <td>5</td>\n",
       "      <td>10.000000</td>\n",
       "      <td>5.000000</td>\n",
       "      <td>6.082763</td>\n",
       "    </tr>\n",
       "    <tr>\n",
       "      <th>5</th>\n",
       "      <td>6</td>\n",
       "      <td>5.385165</td>\n",
       "      <td>9.055385</td>\n",
       "      <td>4.123106</td>\n",
       "    </tr>\n",
       "    <tr>\n",
       "      <th>6</th>\n",
       "      <td>7</td>\n",
       "      <td>4.123106</td>\n",
       "      <td>11.401754</td>\n",
       "      <td>27.202941</td>\n",
       "    </tr>\n",
       "    <tr>\n",
       "      <th>7</th>\n",
       "      <td>8</td>\n",
       "      <td>6.324555</td>\n",
       "      <td>7.071068</td>\n",
       "      <td>12.529964</td>\n",
       "    </tr>\n",
       "    <tr>\n",
       "      <th>8</th>\n",
       "      <td>9</td>\n",
       "      <td>3.605551</td>\n",
       "      <td>8.062258</td>\n",
       "      <td>6.000000</td>\n",
       "    </tr>\n",
       "    <tr>\n",
       "      <th>9</th>\n",
       "      <td>10</td>\n",
       "      <td>6.708204</td>\n",
       "      <td>8.544004</td>\n",
       "      <td>8.246211</td>\n",
       "    </tr>\n",
       "    <tr>\n",
       "      <th>10</th>\n",
       "      <td>11</td>\n",
       "      <td>9.219544</td>\n",
       "      <td>9.055385</td>\n",
       "      <td>5.656854</td>\n",
       "    </tr>\n",
       "    <tr>\n",
       "      <th>11</th>\n",
       "      <td>12</td>\n",
       "      <td>8.544004</td>\n",
       "      <td>10.000000</td>\n",
       "      <td>19.723083</td>\n",
       "    </tr>\n",
       "    <tr>\n",
       "      <th>12</th>\n",
       "      <td>13</td>\n",
       "      <td>8.062258</td>\n",
       "      <td>5.000000</td>\n",
       "      <td>6.708204</td>\n",
       "    </tr>\n",
       "    <tr>\n",
       "      <th>13</th>\n",
       "      <td>14</td>\n",
       "      <td>6.082763</td>\n",
       "      <td>11.045361</td>\n",
       "      <td>7.280110</td>\n",
       "    </tr>\n",
       "    <tr>\n",
       "      <th>14</th>\n",
       "      <td>15</td>\n",
       "      <td>6.000000</td>\n",
       "      <td>10.049876</td>\n",
       "      <td>7.280110</td>\n",
       "    </tr>\n",
       "    <tr>\n",
       "      <th>15</th>\n",
       "      <td>16</td>\n",
       "      <td>4.472136</td>\n",
       "      <td>9.055385</td>\n",
       "      <td>6.000000</td>\n",
       "    </tr>\n",
       "    <tr>\n",
       "      <th>16</th>\n",
       "      <td>17</td>\n",
       "      <td>9.219544</td>\n",
       "      <td>6.324555</td>\n",
       "      <td>5.830952</td>\n",
       "    </tr>\n",
       "    <tr>\n",
       "      <th>17</th>\n",
       "      <td>18</td>\n",
       "      <td>7.280110</td>\n",
       "      <td>8.062258</td>\n",
       "      <td>4.242641</td>\n",
       "    </tr>\n",
       "    <tr>\n",
       "      <th>18</th>\n",
       "      <td>19</td>\n",
       "      <td>9.486833</td>\n",
       "      <td>11.180340</td>\n",
       "      <td>6.403124</td>\n",
       "    </tr>\n",
       "    <tr>\n",
       "      <th>19</th>\n",
       "      <td>20</td>\n",
       "      <td>10.816654</td>\n",
       "      <td>3.162278</td>\n",
       "      <td>5.099020</td>\n",
       "    </tr>\n",
       "    <tr>\n",
       "      <th>20</th>\n",
       "      <td>21</td>\n",
       "      <td>10.000000</td>\n",
       "      <td>8.062258</td>\n",
       "      <td>4.123106</td>\n",
       "    </tr>\n",
       "    <tr>\n",
       "      <th>21</th>\n",
       "      <td>22</td>\n",
       "      <td>53.225934</td>\n",
       "      <td>9.055385</td>\n",
       "      <td>45.541190</td>\n",
       "    </tr>\n",
       "    <tr>\n",
       "      <th>22</th>\n",
       "      <td>23</td>\n",
       "      <td>9.486833</td>\n",
       "      <td>11.401754</td>\n",
       "      <td>6.403124</td>\n",
       "    </tr>\n",
       "    <tr>\n",
       "      <th>23</th>\n",
       "      <td>24</td>\n",
       "      <td>6.082763</td>\n",
       "      <td>14.866069</td>\n",
       "      <td>7.280110</td>\n",
       "    </tr>\n",
       "    <tr>\n",
       "      <th>24</th>\n",
       "      <td>25</td>\n",
       "      <td>5.000000</td>\n",
       "      <td>10.295630</td>\n",
       "      <td>6.324555</td>\n",
       "    </tr>\n",
       "    <tr>\n",
       "      <th>25</th>\n",
       "      <td>26</td>\n",
       "      <td>8.544004</td>\n",
       "      <td>10.049876</td>\n",
       "      <td>7.071068</td>\n",
       "    </tr>\n",
       "    <tr>\n",
       "      <th>26</th>\n",
       "      <td>27</td>\n",
       "      <td>7.071068</td>\n",
       "      <td>1.000000</td>\n",
       "      <td>7.071068</td>\n",
       "    </tr>\n",
       "    <tr>\n",
       "      <th>27</th>\n",
       "      <td>28</td>\n",
       "      <td>7.280110</td>\n",
       "      <td>7.071068</td>\n",
       "      <td>6.708204</td>\n",
       "    </tr>\n",
       "    <tr>\n",
       "      <th>28</th>\n",
       "      <td>29</td>\n",
       "      <td>8.062258</td>\n",
       "      <td>4.123106</td>\n",
       "      <td>1.000000</td>\n",
       "    </tr>\n",
       "    <tr>\n",
       "      <th>29</th>\n",
       "      <td>30</td>\n",
       "      <td>4.242641</td>\n",
       "      <td>8.246211</td>\n",
       "      <td>2.236068</td>\n",
       "    </tr>\n",
       "    <tr>\n",
       "      <th>30</th>\n",
       "      <td>31</td>\n",
       "      <td>5.099020</td>\n",
       "      <td>14.866069</td>\n",
       "      <td>7.280110</td>\n",
       "    </tr>\n",
       "    <tr>\n",
       "      <th>31</th>\n",
       "      <td>32</td>\n",
       "      <td>5.000000</td>\n",
       "      <td>10.295630</td>\n",
       "      <td>6.324555</td>\n",
       "    </tr>\n",
       "    <tr>\n",
       "      <th>32</th>\n",
       "      <td>33</td>\n",
       "      <td>8.544004</td>\n",
       "      <td>10.049876</td>\n",
       "      <td>8.062258</td>\n",
       "    </tr>\n",
       "    <tr>\n",
       "      <th>33</th>\n",
       "      <td>34</td>\n",
       "      <td>8.000000</td>\n",
       "      <td>1.000000</td>\n",
       "      <td>6.082763</td>\n",
       "    </tr>\n",
       "    <tr>\n",
       "      <th>34</th>\n",
       "      <td>35</td>\n",
       "      <td>8.246211</td>\n",
       "      <td>8.062258</td>\n",
       "      <td>6.708204</td>\n",
       "    </tr>\n",
       "    <tr>\n",
       "      <th>35</th>\n",
       "      <td>36</td>\n",
       "      <td>8.062258</td>\n",
       "      <td>5.000000</td>\n",
       "      <td>1.000000</td>\n",
       "    </tr>\n",
       "    <tr>\n",
       "      <th>36</th>\n",
       "      <td>37</td>\n",
       "      <td>7.615773</td>\n",
       "      <td>10.000000</td>\n",
       "      <td>12.165525</td>\n",
       "    </tr>\n",
       "    <tr>\n",
       "      <th>37</th>\n",
       "      <td>38</td>\n",
       "      <td>5.099020</td>\n",
       "      <td>9.899495</td>\n",
       "      <td>6.082763</td>\n",
       "    </tr>\n",
       "    <tr>\n",
       "      <th>38</th>\n",
       "      <td>39</td>\n",
       "      <td>52.810984</td>\n",
       "      <td>8.062258</td>\n",
       "      <td>5.656854</td>\n",
       "    </tr>\n",
       "    <tr>\n",
       "      <th>39</th>\n",
       "      <td>40</td>\n",
       "      <td>5.099020</td>\n",
       "      <td>8.544004</td>\n",
       "      <td>5.656854</td>\n",
       "    </tr>\n",
       "    <tr>\n",
       "      <th>40</th>\n",
       "      <td>41</td>\n",
       "      <td>5.385165</td>\n",
       "      <td>7.071068</td>\n",
       "      <td>9.219544</td>\n",
       "    </tr>\n",
       "    <tr>\n",
       "      <th>41</th>\n",
       "      <td>42</td>\n",
       "      <td>6.000000</td>\n",
       "      <td>11.000000</td>\n",
       "      <td>7.071068</td>\n",
       "    </tr>\n",
       "    <tr>\n",
       "      <th>42</th>\n",
       "      <td>43</td>\n",
       "      <td>7.211103</td>\n",
       "      <td>10.000000</td>\n",
       "      <td>9.000000</td>\n",
       "    </tr>\n",
       "    <tr>\n",
       "      <th>43</th>\n",
       "      <td>44</td>\n",
       "      <td>9.055385</td>\n",
       "      <td>7.211103</td>\n",
       "      <td>7.810250</td>\n",
       "    </tr>\n",
       "    <tr>\n",
       "      <th>44</th>\n",
       "      <td>45</td>\n",
       "      <td>38.209946</td>\n",
       "      <td>7.211103</td>\n",
       "      <td>29.000000</td>\n",
       "    </tr>\n",
       "    <tr>\n",
       "      <th>45</th>\n",
       "      <td>46</td>\n",
       "      <td>14.866069</td>\n",
       "      <td>9.486833</td>\n",
       "      <td>42.720019</td>\n",
       "    </tr>\n",
       "    <tr>\n",
       "      <th>46</th>\n",
       "      <td>47</td>\n",
       "      <td>34.438351</td>\n",
       "      <td>10.295630</td>\n",
       "      <td>28.635642</td>\n",
       "    </tr>\n",
       "    <tr>\n",
       "      <th>47</th>\n",
       "      <td>48</td>\n",
       "      <td>6.082763</td>\n",
       "      <td>9.848858</td>\n",
       "      <td>7.615773</td>\n",
       "    </tr>\n",
       "    <tr>\n",
       "      <th>48</th>\n",
       "      <td>49</td>\n",
       "      <td>5.385165</td>\n",
       "      <td>9.219544</td>\n",
       "      <td>5.830952</td>\n",
       "    </tr>\n",
       "    <tr>\n",
       "      <th>49</th>\n",
       "      <td>50</td>\n",
       "      <td>7.810250</td>\n",
       "      <td>2.236068</td>\n",
       "      <td>12.000000</td>\n",
       "    </tr>\n",
       "  </tbody>\n",
       "</table>\n",
       "</div>"
      ],
      "text/plain": [
       "    index   Glabella         R3     Nasion\n",
       "0       1  53.235327   6.403124  46.615448\n",
       "1       2   8.000000   9.055385  29.154759\n",
       "2       3  27.202941  10.000000  32.202484\n",
       "3       4  46.097722   6.324555  38.626416\n",
       "4       5  10.000000   5.000000   6.082763\n",
       "5       6   5.385165   9.055385   4.123106\n",
       "6       7   4.123106  11.401754  27.202941\n",
       "7       8   6.324555   7.071068  12.529964\n",
       "8       9   3.605551   8.062258   6.000000\n",
       "9      10   6.708204   8.544004   8.246211\n",
       "10     11   9.219544   9.055385   5.656854\n",
       "11     12   8.544004  10.000000  19.723083\n",
       "12     13   8.062258   5.000000   6.708204\n",
       "13     14   6.082763  11.045361   7.280110\n",
       "14     15   6.000000  10.049876   7.280110\n",
       "15     16   4.472136   9.055385   6.000000\n",
       "16     17   9.219544   6.324555   5.830952\n",
       "17     18   7.280110   8.062258   4.242641\n",
       "18     19   9.486833  11.180340   6.403124\n",
       "19     20  10.816654   3.162278   5.099020\n",
       "20     21  10.000000   8.062258   4.123106\n",
       "21     22  53.225934   9.055385  45.541190\n",
       "22     23   9.486833  11.401754   6.403124\n",
       "23     24   6.082763  14.866069   7.280110\n",
       "24     25   5.000000  10.295630   6.324555\n",
       "25     26   8.544004  10.049876   7.071068\n",
       "26     27   7.071068   1.000000   7.071068\n",
       "27     28   7.280110   7.071068   6.708204\n",
       "28     29   8.062258   4.123106   1.000000\n",
       "29     30   4.242641   8.246211   2.236068\n",
       "30     31   5.099020  14.866069   7.280110\n",
       "31     32   5.000000  10.295630   6.324555\n",
       "32     33   8.544004  10.049876   8.062258\n",
       "33     34   8.000000   1.000000   6.082763\n",
       "34     35   8.246211   8.062258   6.708204\n",
       "35     36   8.062258   5.000000   1.000000\n",
       "36     37   7.615773  10.000000  12.165525\n",
       "37     38   5.099020   9.899495   6.082763\n",
       "38     39  52.810984   8.062258   5.656854\n",
       "39     40   5.099020   8.544004   5.656854\n",
       "40     41   5.385165   7.071068   9.219544\n",
       "41     42   6.000000  11.000000   7.071068\n",
       "42     43   7.211103  10.000000   9.000000\n",
       "43     44   9.055385   7.211103   7.810250\n",
       "44     45  38.209946   7.211103  29.000000\n",
       "45     46  14.866069   9.486833  42.720019\n",
       "46     47  34.438351  10.295630  28.635642\n",
       "47     48   6.082763   9.848858   7.615773\n",
       "48     49   5.385165   9.219544   5.830952\n",
       "49     50   7.810250   2.236068  12.000000"
      ]
     },
     "execution_count": 116,
     "metadata": {},
     "output_type": "execute_result"
    }
   ],
   "source": [
    "mse_result_df"
   ]
  },
  {
   "cell_type": "code",
   "execution_count": null,
   "metadata": {},
   "outputs": [],
   "source": []
  },
  {
   "cell_type": "code",
   "execution_count": null,
   "metadata": {},
   "outputs": [],
   "source": []
  }
 ],
 "metadata": {
  "interpreter": {
   "hash": "de54506a83f8ee6b284703bffbec36bf2dd70efd52509c97f7e6dc01858c1532"
  },
  "kernelspec": {
   "display_name": "Python 3",
   "language": "python",
   "name": "python3"
  },
  "language_info": {
   "codemirror_mode": {
    "name": "ipython",
    "version": 3
   },
   "file_extension": ".py",
   "mimetype": "text/x-python",
   "name": "python",
   "nbconvert_exporter": "python",
   "pygments_lexer": "ipython3",
   "version": "3.8.5"
  }
 },
 "nbformat": 4,
 "nbformat_minor": 4
}
