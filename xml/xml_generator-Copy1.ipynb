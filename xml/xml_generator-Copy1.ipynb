{
 "cells": [
  {
   "cell_type": "code",
   "execution_count": 1,
   "metadata": {},
   "outputs": [],
   "source": [
    "import pandas as pd\n",
    "from xml.etree.ElementTree import Element, SubElement, ElementTree"
   ]
  },
  {
   "cell_type": "code",
   "execution_count": 8,
   "metadata": {},
   "outputs": [],
   "source": [
    "root = Element(\"annotation\")\n",
    "\n",
    "element1 = Element(\"filename\")\n",
    "root.append(element1)\n",
    "element1.text = \"File text\"\n",
    "\n",
    "\n",
    "element2 = Element(\"size\")\n",
    "root.append(element2)\n",
    "sub_element2 = SubElement(element2, \"width\")\n",
    "sub_element2.text = \"width text\"\n",
    "sub_element2 = SubElement(element2, \"height\")\n",
    "sub_element2.text = \"height text\"\n",
    "sub_element2 = SubElement(element2, \"depth\")\n",
    "sub_element2.text = \"depth text\"\n",
    "\n",
    "\n",
    "for i in range(5):\n",
    "    element3 = Element(\"object\")\n",
    "    root.append(element3)\n",
    "    sub_element3 = SubElement(element3, \"name\")\n",
    "    sub_element3.text = \"Landmark name\"\n",
    "\n",
    "\n",
    "    sub_element4 = SubElement(element3, \"bndbox\")\n",
    "\n",
    "    sub_element5 = SubElement(sub_element4, \"xmin\")\n",
    "    sub_element5.text = \"a\"\n",
    "\n",
    "    sub_element6 = SubElement(sub_element4, \"ymin\")\n",
    "    sub_element6.text = \"b\"\n",
    "\n",
    "    sub_element7 = SubElement(sub_element4, \"xmax\")\n",
    "    sub_element7.text = \"c\"\n",
    "\n",
    "    sub_element8 = SubElement(sub_element4, \"ymax\")\n",
    "    sub_element8.text = \"d\"\n",
    "\n",
    "\n",
    "\n",
    "tree = ElementTree(root)\n",
    "\n",
    "fileName = \"./test.xml\"\n",
    "with open(fileName, \"wb\") as file:\n",
    "    tree.write(file, encoding='utf-8', xml_declaration=True)"
   ]
  },
  {
   "cell_type": "code",
   "execution_count": 9,
   "metadata": {},
   "outputs": [],
   "source": [
    "label_data = pd.read_csv('./label_20220105.csv')"
   ]
  },
  {
   "cell_type": "code",
   "execution_count": 27,
   "metadata": {},
   "outputs": [],
   "source": [
    "landmark_name = ['Glabella', 'R3', 'Nasion']"
   ]
  },
  {
   "cell_type": "code",
   "execution_count": 30,
   "metadata": {},
   "outputs": [
    {
     "data": {
      "text/plain": [
       "148.4984025559105"
      ]
     },
     "execution_count": 30,
     "metadata": {},
     "output_type": "execute_result"
    }
   ],
   "source": [
    "label_data.iloc[0][landmark_name[0]+'_y']*512 + 16"
   ]
  },
  {
   "cell_type": "markdown",
   "metadata": {},
   "source": [
    "---"
   ]
  },
  {
   "cell_type": "code",
   "execution_count": 29,
   "metadata": {},
   "outputs": [],
   "source": [
    "for i in range(5):\n",
    "    root = Element(\"annotation\")\n",
    "\n",
    "    element1 = Element(\"filename\")\n",
    "    root.append(element1)\n",
    "    element1.text = label_data.iloc[i]['ID']\n",
    "\n",
    "\n",
    "    element2 = Element(\"size\")\n",
    "    root.append(element2)\n",
    "    sub_element2 = SubElement(element2, \"width\")\n",
    "    sub_element2.text = 512\n",
    "    sub_element2 = SubElement(element2, \"height\")\n",
    "    sub_element2.text = 512\n",
    "    sub_element2 = SubElement(element2, \"depth\")\n",
    "    sub_element2.text = 3\n",
    "\n",
    "\n",
    "    landmark_name = ['Glabella', 'R3', 'Nasion']\n",
    "    \n",
    "    for j in range(3):\n",
    "        element3 = Element(\"object\")\n",
    "        root.append(element3)\n",
    "        sub_element3 = SubElement(element3, \"name\")\n",
    "        sub_element3.text = landmark_name[j]\n",
    "\n",
    "\n",
    "        sub_element4 = SubElement(element3, \"bndbox\")\n",
    "\n",
    "        sub_element5 = SubElement(sub_element4, \"xmin\")\n",
    "        sub_element5.text = label_data.iloc[i][landmark_name[j]+'_x']*512 - 16\n",
    "\n",
    "        sub_element6 = SubElement(sub_element4, \"ymin\")\n",
    "        sub_element6.text = label_data.iloc[i][landmark_name[j]+'_y']*512 + 16\n",
    "\n",
    "        sub_element7 = SubElement(sub_element4, \"xmax\")\n",
    "        sub_element7.text = label_data.iloc[i][landmark_name[j]+'_x']*512 - 16\n",
    "\n",
    "        sub_element8 = SubElement(sub_element4, \"ymax\")\n",
    "        sub_element8.text = label_data.iloc[i][landmark_name[j]+'_y']*512 + 16\n",
    "        \n",
    "    \n",
    "    fileName = f\"./xml/test_{i}.xml\"\n",
    "    with open(fileName, \"wb\") as file:\n",
    "        tree.write(file, encoding='utf-8', xml_declaration=True)"
   ]
  },
  {
   "cell_type": "code",
   "execution_count": null,
   "metadata": {},
   "outputs": [],
   "source": []
  }
 ],
 "metadata": {
  "colab": {
   "collapsed_sections": [],
   "name": "MNIST.ipynb",
   "provenance": [],
   "toc_visible": true
  },
  "interpreter": {
   "hash": "de54506a83f8ee6b284703bffbec36bf2dd70efd52509c97f7e6dc01858c1532"
  },
  "kernelspec": {
   "display_name": "Python 3",
   "language": "python",
   "name": "python3"
  },
  "language_info": {
   "codemirror_mode": {
    "name": "ipython",
    "version": 3
   },
   "file_extension": ".py",
   "mimetype": "text/x-python",
   "name": "python",
   "nbconvert_exporter": "python",
   "pygments_lexer": "ipython3",
   "version": "3.8.5"
  }
 },
 "nbformat": 4,
 "nbformat_minor": 4
}
