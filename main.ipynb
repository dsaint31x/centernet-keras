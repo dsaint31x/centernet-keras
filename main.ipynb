{
 "cells": [
  {
   "cell_type": "markdown",
   "metadata": {},
   "source": [
    "http://host.robots.ox.ac.uk/pascal/VOC/voc2007/"
   ]
  },
  {
   "cell_type": "code",
   "execution_count": 1,
   "metadata": {},
   "outputs": [],
   "source": [
    "import os\n",
    "from datetime import datetime\n",
    "\n",
    "import tensorflow as tf\n",
    "from tensorflow import keras\n",
    "\n",
    "from centernet import CenterNet\n",
    "from data import VOCDataset\n",
    "from losses import centernet_loss\n",
    "from callbacks import VisCallback\n",
    "\n",
    "# imgaug : conda install imgaug"
   ]
  },
  {
   "cell_type": "code",
   "execution_count": 2,
   "metadata": {},
   "outputs": [],
   "source": [
    "# GPU list load\n",
    "gpus = tf.config.list_physical_devices('GPU')\n",
    "for gpu in gpus:\n",
    "    tf.config.experimental.set_memory_growth(gpu, True)"
   ]
  },
  {
   "cell_type": "code",
   "execution_count": 3,
   "metadata": {},
   "outputs": [
    {
     "data": {
      "text/plain": [
       "'\\ndata_path = \"E:\\\\github2\\\\centernet-keras\\\\VOCdevkit\\\\VOC2007\"\\ntrain_file = \"VOCdevkit\\\\VOC2007\\\\ImageSets\\\\Main\\\\train.txt\"\\nval_file = \"VOCdevkit\\\\VOC2007\\\\ImageSets\\\\Main\\\\val.txt\"\\n\\nlog_path = \"./logs/test\"\\n'"
      ]
     },
     "execution_count": 3,
     "metadata": {},
     "output_type": "execute_result"
    }
   ],
   "source": [
    "\"\"\"\n",
    "data_path = \"E:\\github2\\centernet-keras\\VOCdevkit\\VOC2007\"\n",
    "train_file = \"VOCdevkit\\VOC2007\\ImageSets\\Main\\\\train.txt\"\n",
    "val_file = \"VOCdevkit\\VOC2007\\ImageSets\\Main\\\\val.txt\"\n",
    "\n",
    "log_path = \"./logs/test\"\n",
    "\"\"\""
   ]
  },
  {
   "cell_type": "code",
   "execution_count": 4,
   "metadata": {},
   "outputs": [
    {
     "name": "stdout",
     "output_type": "stream",
     "text": [
      "<class 'data.VOCDataset'>\n"
     ]
    }
   ],
   "source": [
    "print(VOCDataset)"
   ]
  },
  {
   "cell_type": "code",
   "execution_count": 5,
   "metadata": {},
   "outputs": [],
   "source": [
    "def main():\n",
    "    # load dataset\n",
    "    train_dataset_raw = VOCDataset(data_path, input_shape, train_file,\n",
    "                                   batch_size, True)\n",
    "    train_dataset = train_dataset_raw.load_dataset()\n",
    "\n",
    "    val_dataset_raw = VOCDataset(data_path, input_shape, train_file,\n",
    "                                 batch_size, False)\n",
    "    val_dataset = val_dataset_raw.load_dataset()\n",
    "\n",
    "    vis_dataset_raw = VOCDataset(data_path, input_shape, train_file, 1, False)\n",
    "    vis_dataset = vis_dataset_raw.load_dataset().repeat()\n",
    "\n",
    "    steps_per_epoch = len(train_dataset_raw) // batch_size\n",
    "\n",
    "    # callbacks\n",
    "    logdir = os.path.join(log_path, datetime.now().strftime(\"%Y%m%d-%H%M%S\"))\n",
    "    tb_callback = keras.callbacks.TensorBoard(logdir, update_freq=100)\n",
    "    ckpt_callback = keras.callbacks.ModelCheckpoint(\n",
    "        filepath=logdir,\n",
    "        save_best_only=True,\n",
    "        monitor=\"val_loss\",\n",
    "        verbose=1,\n",
    "    )\n",
    "    vis_callback = VisCallback(vis_dataset,\n",
    "                               class_names=train_dataset_raw.class_names,\n",
    "                               logdir=logdir,\n",
    "                               update_freq=100)\n",
    "\n",
    "    # load model\n",
    "    model = CenterNet(train_dataset_raw.class_names,\n",
    "                      backbone_weights='imagenet',\n",
    "                      freeze=freeze,\n",
    "                      finetune=finetune)\n",
    "\n",
    "    if ckpt_path:\n",
    "        model.load_weights(ckpt_path)\n",
    "        print(f\"Loding pretrained weights from {ckpt_path} !\")\n",
    "\n",
    "    # model compile\n",
    "    lr_schedule = tf.keras.optimizers.schedules.ExponentialDecay(\n",
    "        initial_learning_rate=lr,\n",
    "        decay_steps=steps_per_epoch,\n",
    "        decay_rate=0.94,\n",
    "        staircase=True)\n",
    "    optimizer = tf.keras.optimizers.Adam(learning_rate=lr_schedule)\n",
    "    model.compile(optimizer=optimizer, loss=centernet_loss, run_eagerly=False)\n",
    "\n",
    "    \n",
    "    model.fit(x=train_dataset,\n",
    "              validation_data=val_dataset,\n",
    "              epochs=epochs,\n",
    "              callbacks=[tb_callback, ckpt_callback, vis_callback])"
   ]
  },
  {
   "cell_type": "code",
   "execution_count": 7,
   "metadata": {},
   "outputs": [
    {
     "name": "stderr",
     "output_type": "stream",
     "text": [
      "loading the context of data_file ...: 2501it [00:00, 1254629.15it/s]\n",
      "loading the context of data_file ...: 2501it [00:00, 1254029.21it/s]\n",
      "loading the context of data_file ...: 2501it [00:00, 1254179.14it/s]\n"
     ]
    },
    {
     "name": "stdout",
     "output_type": "stream",
     "text": [
      "Downloading data from https://github.com/fchollet/deep-learning-models/releases/download/v0.2/resnet50_weights_tf_dim_ordering_tf_kernels_notop.h5\n",
      "94658560/94653016 [==============================] - 28s 0us/step\n",
      "      1/Unknown - 0s 0s/step - loss: 38769.5391 - hm_loss: 38763.1523 - wh_loss: 3.5783 - reg_loss: 0.3533WARNING:tensorflow:From c:\\Users\\tkdal\\Anaconda3\\envs\\keras\\lib\\site-packages\\tensorflow\\python\\ops\\summary_ops_v2.py:1277: stop (from tensorflow.python.eager.profiler) is deprecated and will be removed after 2020-07-01.\n",
      "Instructions for updating:\n",
      "use `tf.profiler.experimental.stop` instead.\n",
      "   1251/Unknown - 3022s 2s/step - loss: 81.0128 - hm_loss: 73.7166 - wh_loss: 2.8328 - reg_loss: 0.2521\n",
      "Epoch 00001: val_loss improved from inf to 9.20326, saving model to ./logs/test\\20220523-104401\n",
      "1251/1251 [==============================] - 4697s 4s/step - loss: 80.9551 - hm_loss: 73.6613 - wh_loss: 2.8324 - reg_loss: 0.2522 - val_loss: 9.2033 - val_hm_loss: 4.7837 - val_wh_loss: 2.4637 - val_reg_loss: 0.3552\n"
     ]
    }
   ],
   "source": [
    "if __name__ == \"__main__\":\n",
    "    model_path = ''\n",
    "    input_shape = (512, 512)\n",
    "    backbone = 'resnet50'\n",
    "\n",
    "    epochs = 1\n",
    "    batch_size = 2\n",
    "    buffer_size = batch_size * 5\n",
    "    lr = 1e-2\n",
    "    freeze = True\n",
    "    finetune = True or freeze\n",
    "    ckpt_path = \"\"\n",
    "    # ckpt_path =  \"./logs/test/20220417-140619\"\n",
    "\n",
    "    data_path = \"..\\\\..\\\\Centernet\\\\VOC2007\"\n",
    "    train_file = \"..\\\\..\\\\Centernet\\\\VOC2007\\\\ImageSets\\\\Main\\\\train.txt\"\n",
    "    val_file = \"..\\\\..\\\\Centernet\\\\VOC2007\\\\ImageSets\\\\Main\\\\val.txt\"\n",
    "\n",
    "    log_path = \"./logs/test\"\n",
    "\n",
    "    main()"
   ]
  },
  {
   "cell_type": "code",
   "execution_count": null,
   "metadata": {},
   "outputs": [],
   "source": []
  }
 ],
 "metadata": {
  "colab": {
   "collapsed_sections": [],
   "name": "MNIST.ipynb",
   "provenance": [],
   "toc_visible": true
  },
  "interpreter": {
   "hash": "de54506a83f8ee6b284703bffbec36bf2dd70efd52509c97f7e6dc01858c1532"
  },
  "kernelspec": {
   "display_name": "Python 3",
   "language": "python",
   "name": "python3"
  },
  "language_info": {
   "codemirror_mode": {
    "name": "ipython",
    "version": 3
   },
   "file_extension": ".py",
   "mimetype": "text/x-python",
   "name": "python",
   "nbconvert_exporter": "python",
   "pygments_lexer": "ipython3",
   "version": "3.8.5"
  }
 },
 "nbformat": 4,
 "nbformat_minor": 4
}
