{
 "cells": [
  {
   "cell_type": "code",
   "execution_count": 2,
   "metadata": {},
   "outputs": [],
   "source": [
    "import os\n",
    "from datetime import datetime\n",
    "\n",
    "import tensorflow as tf\n",
    "from tensorflow import keras\n",
    "\n",
    "from centernet import CenterNet\n",
    "from data import VOCDataset\n",
    "from losses import centernet_loss\n",
    "from callbacks import VisCallback\n",
    "\n",
    "# imgaug : conda install imgaug"
   ]
  },
  {
   "cell_type": "code",
   "execution_count": 3,
   "metadata": {},
   "outputs": [],
   "source": [
    "# GPU list load\n",
    "gpus = tf.config.list_physical_devices('GPU')\n",
    "for gpu in gpus:\n",
    "    tf.config.experimental.set_memory_growth(gpu, True)"
   ]
  },
  {
   "cell_type": "code",
   "execution_count": 4,
   "metadata": {},
   "outputs": [
    {
     "data": {
      "text/plain": [
       "'\\ndata_path = \"E:\\\\github2\\\\centernet-keras\\\\VOCdevkit\\\\VOC2007\"\\ntrain_file = \"VOCdevkit\\\\VOC2007\\\\ImageSets\\\\Main\\\\train.txt\"\\nval_file = \"VOCdevkit\\\\VOC2007\\\\ImageSets\\\\Main\\\\val.txt\"\\n\\nlog_path = \"./logs/test\"\\n'"
      ]
     },
     "execution_count": 4,
     "metadata": {},
     "output_type": "execute_result"
    }
   ],
   "source": [
    "\"\"\"\n",
    "data_path = \"E:\\github2\\centernet-keras\\VOCdevkit\\VOC2007\"\n",
    "train_file = \"VOCdevkit\\VOC2007\\ImageSets\\Main\\\\train.txt\"\n",
    "val_file = \"VOCdevkit\\VOC2007\\ImageSets\\Main\\\\val.txt\"\n",
    "\n",
    "log_path = \"./logs/test\"\n",
    "\"\"\""
   ]
  },
  {
   "cell_type": "code",
   "execution_count": 9,
   "metadata": {},
   "outputs": [
    {
     "name": "stdout",
     "output_type": "stream",
     "text": [
      "<class 'data.VOCDataset'>\n"
     ]
    }
   ],
   "source": [
    "print(VOCDataset)"
   ]
  },
  {
   "cell_type": "code",
   "execution_count": 10,
   "metadata": {},
   "outputs": [],
   "source": [
    "def main():\n",
    "    # load dataset\n",
    "    train_dataset_raw = VOCDataset(data_path, input_shape, train_file,\n",
    "                                   batch_size, True)\n",
    "    train_dataset = train_dataset_raw.load_dataset()\n",
    "\n",
    "    val_dataset_raw = VOCDataset(data_path, input_shape, train_file,\n",
    "                                 batch_size, False)\n",
    "    val_dataset = val_dataset_raw.load_dataset()\n",
    "\n",
    "    vis_dataset_raw = VOCDataset(data_path, input_shape, train_file, 1, False)\n",
    "    vis_dataset = vis_dataset_raw.load_dataset().repeat()\n",
    "\n",
    "    steps_per_epoch = len(train_dataset_raw) // batch_size\n",
    "\n",
    "    # callbacks\n",
    "    logdir = os.path.join(log_path, datetime.now().strftime(\"%Y%m%d-%H%M%S\"))\n",
    "    tb_callback = keras.callbacks.TensorBoard(logdir, update_freq=100)\n",
    "    ckpt_callback = keras.callbacks.ModelCheckpoint(\n",
    "        filepath=logdir,\n",
    "        save_best_only=True,\n",
    "        monitor=\"val_loss\",\n",
    "        verbose=1,\n",
    "    )\n",
    "    vis_callback = VisCallback(vis_dataset,\n",
    "                               class_names=train_dataset_raw.class_names,\n",
    "                               logdir=logdir,\n",
    "                               update_freq=100)\n",
    "\n",
    "    # load model\n",
    "    model = CenterNet(train_dataset_raw.class_names,\n",
    "                      backbone_weights='imagenet',\n",
    "                      freeze=freeze,\n",
    "                      finetune=finetune)\n",
    "\n",
    "    if ckpt_path:\n",
    "        model.load_weights(ckpt_path)\n",
    "        print(f\"Loding pretrained weights from {ckpt_path} !\")\n",
    "\n",
    "    # model compile\n",
    "    lr_schedule = tf.keras.optimizers.schedules.ExponentialDecay(\n",
    "        initial_learning_rate=lr,\n",
    "        decay_steps=steps_per_epoch,\n",
    "        decay_rate=0.94,\n",
    "        staircase=True)\n",
    "    optimizer = tf.keras.optimizers.Adam(learning_rate=lr_schedule)\n",
    "    model.compile(optimizer=optimizer, loss=centernet_loss, run_eagerly=False)\n",
    "\n",
    "    model.fit(x=train_dataset,\n",
    "              validation_data=val_dataset,\n",
    "              epochs=epochs,\n",
    "              callbacks=[tb_callback, ckpt_callback, vis_callback])"
   ]
  },
  {
   "cell_type": "code",
   "execution_count": 14,
   "metadata": {},
   "outputs": [
    {
     "ename": "FileNotFoundError",
     "evalue": "[Errno 2] No such file or directory: 'C:\\\\Users\\\\Cyan ovo\\\\workspace\\\\Centernet\\\\VOC2007\\\\ImageSets\\\\Main\\\\train.txt'",
     "output_type": "error",
     "traceback": [
      "\u001b[1;31m---------------------------------------------------------------------------\u001b[0m",
      "\u001b[1;31mFileNotFoundError\u001b[0m                         Traceback (most recent call last)",
      "\u001b[1;32m<ipython-input-14-48b34ec8bc15>\u001b[0m in \u001b[0;36m<module>\u001b[1;34m\u001b[0m\n\u001b[0;32m     19\u001b[0m     \u001b[0mlog_path\u001b[0m \u001b[1;33m=\u001b[0m \u001b[1;34m\"./logs/test\"\u001b[0m\u001b[1;33m\u001b[0m\u001b[1;33m\u001b[0m\u001b[0m\n\u001b[0;32m     20\u001b[0m \u001b[1;33m\u001b[0m\u001b[0m\n\u001b[1;32m---> 21\u001b[1;33m     \u001b[0mmain\u001b[0m\u001b[1;33m(\u001b[0m\u001b[1;33m)\u001b[0m\u001b[1;33m\u001b[0m\u001b[1;33m\u001b[0m\u001b[0m\n\u001b[0m",
      "\u001b[1;32m<ipython-input-10-279e26aad294>\u001b[0m in \u001b[0;36mmain\u001b[1;34m()\u001b[0m\n\u001b[0;32m      1\u001b[0m \u001b[1;32mdef\u001b[0m \u001b[0mmain\u001b[0m\u001b[1;33m(\u001b[0m\u001b[1;33m)\u001b[0m\u001b[1;33m:\u001b[0m\u001b[1;33m\u001b[0m\u001b[1;33m\u001b[0m\u001b[0m\n\u001b[0;32m      2\u001b[0m     \u001b[1;31m# load dataset\u001b[0m\u001b[1;33m\u001b[0m\u001b[1;33m\u001b[0m\u001b[1;33m\u001b[0m\u001b[0m\n\u001b[1;32m----> 3\u001b[1;33m     train_dataset_raw = VOCDataset(data_path, input_shape, train_file,\n\u001b[0m\u001b[0;32m      4\u001b[0m                                    batch_size, True)\n\u001b[0;32m      5\u001b[0m     \u001b[0mtrain_dataset\u001b[0m \u001b[1;33m=\u001b[0m \u001b[0mtrain_dataset_raw\u001b[0m\u001b[1;33m.\u001b[0m\u001b[0mload_dataset\u001b[0m\u001b[1;33m(\u001b[0m\u001b[1;33m)\u001b[0m\u001b[1;33m\u001b[0m\u001b[1;33m\u001b[0m\u001b[0m\n",
      "\u001b[1;32m~\\workspace\\Github\\centernet-keras\\data.py\u001b[0m in \u001b[0;36m__init__\u001b[1;34m(self, path, input_shape, data_file, batch_size, training, buffer_size, class_names)\u001b[0m\n\u001b[0;32m     99\u001b[0m         \u001b[0mself\u001b[0m\u001b[1;33m.\u001b[0m\u001b[0mclass_names\u001b[0m \u001b[1;33m=\u001b[0m \u001b[0mclass_names\u001b[0m \u001b[1;32mif\u001b[0m \u001b[0mclass_names\u001b[0m \u001b[1;32melse\u001b[0m \u001b[0mself\u001b[0m\u001b[1;33m.\u001b[0m\u001b[0mID2LABEL\u001b[0m\u001b[1;33m\u001b[0m\u001b[1;33m\u001b[0m\u001b[0m\n\u001b[0;32m    100\u001b[0m         \u001b[0mself\u001b[0m\u001b[1;33m.\u001b[0m\u001b[0mnum_classes\u001b[0m \u001b[1;33m=\u001b[0m \u001b[0mlen\u001b[0m\u001b[1;33m(\u001b[0m\u001b[0mself\u001b[0m\u001b[1;33m.\u001b[0m\u001b[0mclass_names\u001b[0m\u001b[1;33m)\u001b[0m\u001b[1;33m\u001b[0m\u001b[1;33m\u001b[0m\u001b[0m\n\u001b[1;32m--> 101\u001b[1;33m         \u001b[0mself\u001b[0m\u001b[1;33m.\u001b[0m\u001b[0mdata_ids\u001b[0m \u001b[1;33m=\u001b[0m \u001b[0mself\u001b[0m\u001b[1;33m.\u001b[0m\u001b[0m_get_data_id\u001b[0m\u001b[1;33m(\u001b[0m\u001b[0mdata_file\u001b[0m\u001b[1;33m)\u001b[0m\u001b[1;33m\u001b[0m\u001b[1;33m\u001b[0m\u001b[0m\n\u001b[0m\u001b[0;32m    102\u001b[0m \u001b[1;33m\u001b[0m\u001b[0m\n\u001b[0;32m    103\u001b[0m         \u001b[1;32mif\u001b[0m \u001b[0mlen\u001b[0m\u001b[1;33m(\u001b[0m\u001b[0mself\u001b[0m\u001b[1;33m.\u001b[0m\u001b[0mdata_ids\u001b[0m\u001b[1;33m)\u001b[0m \u001b[1;33m%\u001b[0m \u001b[0mself\u001b[0m\u001b[1;33m.\u001b[0m\u001b[0mbatch_size\u001b[0m \u001b[1;33m!=\u001b[0m \u001b[1;36m0\u001b[0m\u001b[1;33m:\u001b[0m\u001b[1;33m\u001b[0m\u001b[1;33m\u001b[0m\u001b[0m\n",
      "\u001b[1;32m~\\workspace\\Github\\centernet-keras\\data.py\u001b[0m in \u001b[0;36m_get_data_id\u001b[1;34m(file)\u001b[0m\n\u001b[0;32m    109\u001b[0m     \u001b[1;32mdef\u001b[0m \u001b[0m_get_data_id\u001b[0m\u001b[1;33m(\u001b[0m\u001b[0mfile\u001b[0m\u001b[1;33m)\u001b[0m\u001b[1;33m:\u001b[0m\u001b[1;33m\u001b[0m\u001b[1;33m\u001b[0m\u001b[0m\n\u001b[0;32m    110\u001b[0m         \u001b[0mdata_list\u001b[0m \u001b[1;33m=\u001b[0m \u001b[1;33m[\u001b[0m\u001b[1;33m]\u001b[0m\u001b[1;33m\u001b[0m\u001b[1;33m\u001b[0m\u001b[0m\n\u001b[1;32m--> 111\u001b[1;33m         \u001b[1;32mwith\u001b[0m \u001b[0mopen\u001b[0m\u001b[1;33m(\u001b[0m\u001b[0mfile\u001b[0m\u001b[1;33m)\u001b[0m \u001b[1;32mas\u001b[0m \u001b[0mf\u001b[0m\u001b[1;33m:\u001b[0m\u001b[1;33m\u001b[0m\u001b[1;33m\u001b[0m\u001b[0m\n\u001b[0m\u001b[0;32m    112\u001b[0m             \u001b[1;32mfor\u001b[0m \u001b[0mline\u001b[0m \u001b[1;32min\u001b[0m \u001b[0mtqdm\u001b[0m\u001b[1;33m(\u001b[0m\u001b[0mf\u001b[0m\u001b[1;33m,\u001b[0m \u001b[0mdesc\u001b[0m\u001b[1;33m=\u001b[0m\u001b[1;34m\"loading the context of data_file ...\"\u001b[0m\u001b[1;33m)\u001b[0m\u001b[1;33m:\u001b[0m\u001b[1;33m\u001b[0m\u001b[1;33m\u001b[0m\u001b[0m\n\u001b[0;32m    113\u001b[0m                 \u001b[0mdata_list\u001b[0m\u001b[1;33m.\u001b[0m\u001b[0mappend\u001b[0m\u001b[1;33m(\u001b[0m\u001b[0mline\u001b[0m\u001b[1;33m.\u001b[0m\u001b[0mstrip\u001b[0m\u001b[1;33m(\u001b[0m\u001b[1;33m)\u001b[0m\u001b[1;33m)\u001b[0m\u001b[1;33m\u001b[0m\u001b[1;33m\u001b[0m\u001b[0m\n",
      "\u001b[1;31mFileNotFoundError\u001b[0m: [Errno 2] No such file or directory: 'C:\\\\Users\\\\Cyan ovo\\\\workspace\\\\Centernet\\\\VOC2007\\\\ImageSets\\\\Main\\\\train.txt'"
     ]
    }
   ],
   "source": [
    "if __name__ == \"__main__\":\n",
    "    model_path = ''\n",
    "    input_shape = (512, 512)\n",
    "    backbone = 'resnet50'\n",
    "\n",
    "    epochs = 50\n",
    "    batch_size = 2\n",
    "    buffer_size = batch_size * 5\n",
    "    lr = 1e-2\n",
    "    freeze = True\n",
    "    finetune = True or freeze\n",
    "    ckpt_path = \"\"\n",
    "    # ckpt_path =  \"./logs/test/20220417-140619\"\n",
    "\n",
    "    data_path = \"C:\\\\Users\\\\Cyan ovo\\\\workspace\\\\Centernet\\\\VOC2007\"\n",
    "    train_file = \"C:\\\\Users\\\\Cyan ovo\\\\workspace\\\\Centernet\\\\VOC2007\\\\ImageSets\\\\Main\\\\train.txt\"\n",
    "    val_file = \"C:\\\\Users\\\\Cyan ovo\\\\workspace\\\\Centernet\\\\VOC2007\\\\ImageSets\\\\Main\\\\val.txt\"\n",
    "\n",
    "    log_path = \"./logs/test\"\n",
    "\n",
    "    main()"
   ]
  }
 ],
 "metadata": {
  "colab": {
   "collapsed_sections": [],
   "name": "MNIST.ipynb",
   "provenance": [],
   "toc_visible": true
  },
  "kernelspec": {
   "display_name": "Python 3",
   "language": "python",
   "name": "python3"
  },
  "language_info": {
   "codemirror_mode": {
    "name": "ipython",
    "version": 3
   },
   "file_extension": ".py",
   "mimetype": "text/x-python",
   "name": "python",
   "nbconvert_exporter": "python",
   "pygments_lexer": "ipython3",
   "version": "3.8.5"
  }
 },
 "nbformat": 4,
 "nbformat_minor": 4
}
